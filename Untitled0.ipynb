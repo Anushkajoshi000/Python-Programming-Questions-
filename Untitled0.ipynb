{
  "nbformat": 4,
  "nbformat_minor": 0,
  "metadata": {
    "colab": {
      "provenance": [],
      "authorship_tag": "ABX9TyN4nqsWWvdhTvGIBCbUbbsj",
      "include_colab_link": true
    },
    "kernelspec": {
      "name": "python3",
      "display_name": "Python 3"
    },
    "language_info": {
      "name": "python"
    }
  },
  "cells": [
    {
      "cell_type": "markdown",
      "metadata": {
        "id": "view-in-github",
        "colab_type": "text"
      },
      "source": [
        "<a href=\"https://colab.research.google.com/github/Anushkajoshi000/assignment-python-/blob/main/Untitled0.ipynb\" target=\"_parent\"><img src=\"https://colab.research.google.com/assets/colab-badge.svg\" alt=\"Open In Colab\"/></a>"
      ]
    },
    {
      "cell_type": "markdown",
      "source": [
        "PYTHON ASSIGNMENT "
      ],
      "metadata": {
        "id": "iX6PsN3gxGqF"
      }
    },
    {
      "cell_type": "markdown",
      "source": [
        "PROGRAMS FOR PYTHON "
      ],
      "metadata": {
        "id": "dhFyV-GZxNMx"
      }
    },
    {
      "cell_type": "markdown",
      "source": [
        "1.) to implement all arithmetic , relational , logical operations"
      ],
      "metadata": {
        "id": "ktk0yoEnxkFJ"
      }
    },
    {
      "cell_type": "code",
      "source": [
        "a = 10\n",
        "b = 5\n",
        "\n",
        "# Arithmetic Operators\n",
        "print('Addition:', a + b)\n",
        "print('Subtraction:', a - b)\n",
        "print('Multiplication:', a * b)\n",
        "print('Division:', a / b)\n",
        "print('Floor Division:', a // b)\n",
        "print('Modulus:', a % b)\n",
        "print('Exponentiation:', a ** b)\n",
        "\n",
        "# Relational Operators\n",
        "print('Equal to:', a == b)\n",
        "print('Not Equal to:', a != b)\n",
        "print('Greater than:', a > b)\n",
        "print('Less than:', a < b)\n",
        "print('Greater than or Equal to:', a >= b)\n",
        "print('Less than or Equal to:', a <= b)"
      ],
      "metadata": {
        "colab": {
          "base_uri": "https://localhost:8080/"
        },
        "id": "i9zdCm-BxxV5",
        "outputId": "53978bf0-1902-45dd-a348-e5fb487e6ac9"
      },
      "execution_count": null,
      "outputs": [
        {
          "output_type": "stream",
          "name": "stdout",
          "text": [
            "Addition: 15\n",
            "Subtraction: 5\n",
            "Multiplication: 50\n",
            "Division: 2.0\n",
            "Floor Division: 2\n",
            "Modulus: 0\n",
            "Exponentiation: 100000\n",
            "Equal to: False\n",
            "Not Equal to: True\n",
            "Greater than: True\n",
            "Less than: False\n",
            "Greater than or Equal to: True\n",
            "Less than or Equal to: False\n"
          ]
        }
      ]
    },
    {
      "cell_type": "markdown",
      "source": [
        "2.) to check no is even or odd "
      ],
      "metadata": {
        "id": "-efskRfPyCnS"
      }
    },
    {
      "cell_type": "code",
      "source": [
        "num = int(input(\"Enter a number: \"))\n",
        "\n",
        "if num % 2 == 0:\n",
        "    print(num, \"is even\")\n",
        "else:\n",
        "    print(num, \"is odd\")"
      ],
      "metadata": {
        "colab": {
          "base_uri": "https://localhost:8080/"
        },
        "id": "PIox1aajyMb6",
        "outputId": "1c5e673f-1d2d-4adf-b296-424663257686"
      },
      "execution_count": null,
      "outputs": [
        {
          "output_type": "stream",
          "name": "stdout",
          "text": [
            "Enter a number: 13\n",
            "13 is odd\n"
          ]
        }
      ]
    },
    {
      "cell_type": "markdown",
      "source": [
        "3.) to check greater of two nos "
      ],
      "metadata": {
        "id": "_nKtpH9xyQhr"
      }
    },
    {
      "cell_type": "code",
      "source": [
        "# input the numbers\n",
        "num1 = float(input(\"Enter the first number: \"))\n",
        "num2 = float(input(\"Enter the second number: \"))\n",
        "\n",
        "# compare the numbers and print the greatest\n",
        "if num1 > num2:\n",
        "    print(num1, \"is the greatest number\")\n",
        "elif num2 > num1:\n",
        "    print(num2, \"is the greatest number\")\n",
        "else:\n",
        "    print(\"Both numbers are equal\")"
      ],
      "metadata": {
        "colab": {
          "base_uri": "https://localhost:8080/"
        },
        "id": "wQI7QvbfyYbm",
        "outputId": "b80e4e2d-58cf-4098-f229-8f772f132ae8"
      },
      "execution_count": null,
      "outputs": [
        {
          "output_type": "stream",
          "name": "stdout",
          "text": [
            "Enter the first number: 12\n",
            "Enter the second number: 1\n",
            "12.0 is the greatest number\n"
          ]
        }
      ]
    },
    {
      "cell_type": "markdown",
      "source": [
        "4.) to check greater of three no's "
      ],
      "metadata": {
        "id": "Sg0675J5yipd"
      }
    },
    {
      "cell_type": "code",
      "source": [
        "# input the numbers\n",
        "num1 = float(input(\"Enter the first number: \"))\n",
        "num2 = float(input(\"Enter the second number: \"))\n",
        "num3 = float(input(\"Enter the third number: \"))\n",
        "\n",
        "# compare the numbers and print the greatest\n",
        "if num1 > num2 and num1 > num3:\n",
        "    print(num1, \"is the greatest number\")\n",
        "elif num2 > num1 and num2 > num3:\n",
        "    print(num2, \"is the greatest number\")\n",
        "elif num3 > num1 and num3 > num2:\n",
        "    print(num3, \"is the greatest number\")\n",
        "else:\n",
        "    print(\"All numbers are equal\")"
      ],
      "metadata": {
        "colab": {
          "base_uri": "https://localhost:8080/"
        },
        "id": "FcFamIL-yrwN",
        "outputId": "df43fba9-3d48-4793-b764-705673b7a6a1"
      },
      "execution_count": null,
      "outputs": [
        {
          "output_type": "stream",
          "name": "stdout",
          "text": [
            "Enter the first number: 12\n",
            "Enter the second number: 15\n",
            "Enter the third number: 17\n",
            "17.0 is the greatest number\n"
          ]
        }
      ]
    },
    {
      "cell_type": "markdown",
      "source": [
        "5.) to find the no is prime or composite "
      ],
      "metadata": {
        "id": "pdBUoKRDy2Pu"
      }
    },
    {
      "cell_type": "code",
      "source": [
        "import math\n",
        "\n",
        "# input the number\n",
        "num = int(input(\"Enter a positive integer: \"))\n",
        "# initialize is_prime to True\n",
        "is_prime = True\n",
        "# check if the number is less than or equal to 1\n",
        "if num <= 1:\n",
        "    is_prime = False\n",
        "# check if the number is divisible by any number from 2 to its square root\n",
        "for i in range(2, int(math.sqrt(num)) + 1):\n",
        "    if num % i == 0:\n",
        "        is_prime = False\n",
        "        break\n",
        "# print whether the number is prime or composite\n",
        "if is_prime:\n",
        "    print(num, \"is a prime number\")\n",
        "else:\n",
        "    print(num, \"is a composite number\")\n"
      ],
      "metadata": {
        "colab": {
          "base_uri": "https://localhost:8080/"
        },
        "id": "yVUTLN6jy_Rp",
        "outputId": "312c4e17-9032-4d8c-ef49-1d4b2d368867"
      },
      "execution_count": null,
      "outputs": [
        {
          "output_type": "stream",
          "name": "stdout",
          "text": [
            "Enter a positive integer: 12\n",
            "12 is a composite number\n"
          ]
        }
      ]
    },
    {
      "cell_type": "markdown",
      "source": [
        "6.) print all odd no's in a range "
      ],
      "metadata": {
        "id": "jC0sL6ZtzUE1"
      }
    },
    {
      "cell_type": "code",
      "source": [
        "start = 1\n",
        "end = 10\n",
        "\n",
        "for num in range(start, end + 1):\n",
        "    # check if the number is odd\n",
        "    if num % 2 != 0:\n",
        "        print(num)"
      ],
      "metadata": {
        "colab": {
          "base_uri": "https://localhost:8080/"
        },
        "id": "qfHfIOCmzeys",
        "outputId": "0349f23f-fcf4-4932-dc50-552a118199f4"
      },
      "execution_count": null,
      "outputs": [
        {
          "output_type": "stream",
          "name": "stdout",
          "text": [
            "1\n",
            "3\n",
            "5\n",
            "7\n",
            "9\n"
          ]
        }
      ]
    },
    {
      "cell_type": "markdown",
      "source": [
        "7.) print all prime no's in a range "
      ],
      "metadata": {
        "id": "R21Votwn0aR-"
      }
    },
    {
      "cell_type": "code",
      "source": [
        "def is_prime(num):\n",
        "    if num <= 1:\n",
        "        return False\n",
        "    for i in range(2, int(num ** 0.5) + 1):\n",
        "        if num % i == 0:\n",
        "            return False\n",
        "    return True\n",
        "\n",
        "def print_primes(start, end):\n",
        "    print(f\"Prime numbers between {start} and {end}:\")\n",
        "    for num in range(start, end+1):\n",
        "        if is_prime(num):\n",
        "            print(num)\n",
        "\n",
        "print_primes(10, 50)"
      ],
      "metadata": {
        "colab": {
          "base_uri": "https://localhost:8080/"
        },
        "id": "nJUyg6eq0iBu",
        "outputId": "fe98dd32-e8bb-48e7-8de7-508ecc906b58"
      },
      "execution_count": null,
      "outputs": [
        {
          "output_type": "stream",
          "name": "stdout",
          "text": [
            "Prime numbers between 10 and 50:\n",
            "11\n",
            "13\n",
            "17\n",
            "19\n",
            "23\n",
            "29\n",
            "31\n",
            "37\n",
            "41\n",
            "43\n",
            "47\n"
          ]
        }
      ]
    },
    {
      "cell_type": "markdown",
      "source": [
        "8.) to find reverse of a number"
      ],
      "metadata": {
        "id": "LQ57C4vL1MP2"
      }
    },
    {
      "cell_type": "code",
      "source": [
        "def reverse_num(num):\n",
        "    rev_num = 0\n",
        "    while num > 0:\n",
        "        remainder = num % 10\n",
        "        rev_num = (rev_num * 10) + remainder\n",
        "        num = num // 10\n",
        "    return rev_num\n",
        "num = 12345\n",
        "rev_num = reverse_num(num)\n",
        "print(f\"The reverse of {num} is {rev_num}\")"
      ],
      "metadata": {
        "colab": {
          "base_uri": "https://localhost:8080/"
        },
        "id": "kanhsQUV1ajN",
        "outputId": "8b6abdb0-5ecd-403f-e026-333948bf5eb8"
      },
      "execution_count": null,
      "outputs": [
        {
          "output_type": "stream",
          "name": "stdout",
          "text": [
            "The reverse of 12345 is 54321\n"
          ]
        }
      ]
    },
    {
      "cell_type": "markdown",
      "source": [
        "9.) to find the no is palindrom or not"
      ],
      "metadata": {
        "id": "RY9YgRib1qZq"
      }
    },
    {
      "cell_type": "code",
      "source": [
        "def is_palindrome(num):\n",
        "    rev_num = 0\n",
        "    temp = num\n",
        "    while temp > 0:\n",
        "        rev_num = (rev_num * 10) + (temp % 10)\n",
        "        temp = temp // 10\n",
        "    if num == rev_num:\n",
        "        return True\n",
        "    else:\n",
        "        return False\n",
        "num = 12321\n",
        "if is_palindrome(num):\n",
        "    print(f\"{num} is a palindrome number\")\n",
        "else:\n",
        "    print(f\"{num} is not a palindrome number\")"
      ],
      "metadata": {
        "colab": {
          "base_uri": "https://localhost:8080/"
        },
        "id": "PAyKQoBj1yJa",
        "outputId": "f106533a-2f93-4f73-eda4-037e777eaa9d"
      },
      "execution_count": null,
      "outputs": [
        {
          "output_type": "stream",
          "name": "stdout",
          "text": [
            "12321 is a palindrome number\n"
          ]
        }
      ]
    },
    {
      "cell_type": "markdown",
      "source": [
        "10.) Python program to check if a number is an Armstrong number or not:"
      ],
      "metadata": {
        "id": "pM6HWB5z2DgX"
      }
    },
    {
      "cell_type": "code",
      "source": [
        "def is_armstrong(num):\n",
        "    n = len(str(num))\n",
        "    temp = num\n",
        "    sum = 0\n",
        "    while temp > 0:\n",
        "        digit = temp % 10\n",
        "        sum += digit ** n\n",
        "        temp //= 10\n",
        "    if num == sum:\n",
        "        return True\n",
        "    else:\n",
        "        return False\n",
        "num = 153\n",
        "if is_armstrong(num):\n",
        "    print(f\"{num} is an Armstrong number\")\n",
        "else:\n",
        "    print(f\"{num} is not an Armstrong number\")"
      ],
      "metadata": {
        "colab": {
          "base_uri": "https://localhost:8080/"
        },
        "id": "cy_j-7jE2RSS",
        "outputId": "3a52d5e5-889c-4ba5-d1d3-a28c9a09c3a5"
      },
      "execution_count": null,
      "outputs": [
        {
          "output_type": "stream",
          "name": "stdout",
          "text": [
            "153 is an Armstrong number\n"
          ]
        }
      ]
    },
    {
      "cell_type": "markdown",
      "source": [
        "11.) to print all armstrong no in range "
      ],
      "metadata": {
        "id": "Zkcdb9_y2kNz"
      }
    },
    {
      "cell_type": "code",
      "source": [
        "def is_armstrong(num):\n",
        "    n = len(str(num))\n",
        "    temp = num\n",
        "    sum = 0\n",
        "    while temp > 0:\n",
        "        digit = temp % 10\n",
        "        sum += digit ** n\n",
        "        temp //= 10\n",
        "    if num == sum:\n",
        "        return True\n",
        "    else:\n",
        "        return False\n",
        "lower = 100\n",
        "upper = 1000\n",
        "print(f\"Armstrong numbers between {lower} and {upper} are:\")\n",
        "for num in range(lower, upper+1):\n",
        "    if is_armstrong(num):\n",
        "        print(num)"
      ],
      "metadata": {
        "colab": {
          "base_uri": "https://localhost:8080/"
        },
        "id": "Rx0VHpVm258n",
        "outputId": "cc56caa3-92b9-47e2-cbb7-306b300c75aa"
      },
      "execution_count": null,
      "outputs": [
        {
          "output_type": "stream",
          "name": "stdout",
          "text": [
            "Armstrong numbers between 100 and 1000 are:\n",
            "153\n",
            "370\n",
            "371\n",
            "407\n"
          ]
        }
      ]
    },
    {
      "cell_type": "markdown",
      "source": [
        "12.)to find the sum of first n natural no's "
      ],
      "metadata": {
        "id": "IVKf5zFW3Eir"
      }
    },
    {
      "cell_type": "code",
      "source": [
        "def sum_natural_numbers(n):\n",
        "    sum = 0\n",
        "    for i in range(1, n+1):\n",
        "        sum += i\n",
        "    return sum\n",
        "n = 10\n",
        "sum = sum_natural_numbers(n)\n",
        "print(f\"The sum of first {n} natural numbers is {sum}\")"
      ],
      "metadata": {
        "colab": {
          "base_uri": "https://localhost:8080/"
        },
        "id": "3YQkYNLb9ujS",
        "outputId": "62da0d09-b32f-45a2-d786-4fa3af8767fc"
      },
      "execution_count": null,
      "outputs": [
        {
          "output_type": "stream",
          "name": "stdout",
          "text": [
            "The sum of first 10 natural numbers is 55\n"
          ]
        }
      ]
    },
    {
      "cell_type": "markdown",
      "source": [
        "13.) to find factorial of a given no "
      ],
      "metadata": {
        "id": "_hlfRr2r96-j"
      }
    },
    {
      "cell_type": "code",
      "source": [
        "def factorial(n):\n",
        "    fact = 1\n",
        "    for i in range(1, n+1):\n",
        "        fact *= i\n",
        "    return fact\n",
        "n = 5\n",
        "fact = factorial(n)\n",
        "print(f\"The factorial of {n} is {fact}\")"
      ],
      "metadata": {
        "colab": {
          "base_uri": "https://localhost:8080/"
        },
        "id": "TdXhvaao99U8",
        "outputId": "8d5dc2ed-0dcd-4671-c83e-4b6546ba60ba"
      },
      "execution_count": null,
      "outputs": [
        {
          "output_type": "stream",
          "name": "stdout",
          "text": [
            "The factorial of 5 is 120\n"
          ]
        }
      ]
    },
    {
      "cell_type": "markdown",
      "source": [
        "14.) Python program to print the Fibonacci series up to n natural numbers:"
      ],
      "metadata": {
        "id": "U3493dD5-ZwB"
      }
    },
    {
      "cell_type": "code",
      "source": [
        "def fibonacci_series(n):\n",
        "    if n <= 0:\n",
        "        print(\"Invalid input! Please enter a positive integer.\")\n",
        "    elif n == 1:\n",
        "        print(\"Fibonacci series up to\", n, \"natural number:\")\n",
        "        print(0)\n",
        "    else:\n",
        "        print(\"Fibonacci series up to\", n, \"natural numbers:\")\n",
        "        fib_list = [0, 1]\n",
        "        for i in range(2, n):\n",
        "            fib_list.append(fib_list[i-1] + fib_list[i-2])\n",
        "        print(fib_list)\n",
        "n = 10\n",
        "fibonacci_series(n)"
      ],
      "metadata": {
        "colab": {
          "base_uri": "https://localhost:8080/"
        },
        "id": "DIXH7LEX-cBJ",
        "outputId": "dd59195e-e4a7-4494-fda6-fbe563a4778c"
      },
      "execution_count": null,
      "outputs": [
        {
          "output_type": "stream",
          "name": "stdout",
          "text": [
            "Fibonacci series up to 10 natural numbers:\n",
            "[0, 1, 1, 2, 3, 5, 8, 13, 21, 34]\n"
          ]
        }
      ]
    },
    {
      "cell_type": "markdown",
      "source": [
        "15.) Python program to check if a given year is a leap year or not:"
      ],
      "metadata": {
        "id": "Bt4FwCMW-mjN"
      }
    },
    {
      "cell_type": "code",
      "source": [
        "def is_leap_year(year):\n",
        "    if year % 4 == 0:\n",
        "        if year % 100 == 0:\n",
        "            if year % 400 == 0:\n",
        "                return True\n",
        "            else:\n",
        "                return False\n",
        "        else:\n",
        "            return True\n",
        "    else:\n",
        "        return False\n",
        "year = 2024\n",
        "if is_leap_year(year):\n",
        "    print(year, \"is a leap year.\")\n",
        "else:\n",
        "    print(year, \"is not a leap year.\")"
      ],
      "metadata": {
        "colab": {
          "base_uri": "https://localhost:8080/"
        },
        "id": "MAiyCBdf-03E",
        "outputId": "5d16cd8e-71de-4fe7-fe5f-99cd1bafcb00"
      },
      "execution_count": null,
      "outputs": [
        {
          "output_type": "stream",
          "name": "stdout",
          "text": [
            "2024 is a leap year.\n"
          ]
        }
      ]
    },
    {
      "cell_type": "markdown",
      "source": [
        "16.)Python program to convert temperature from Fahrenheit to Celsius and vice versa"
      ],
      "metadata": {
        "id": "IhTHETiJ_J2k"
      }
    },
    {
      "cell_type": "code",
      "source": [
        "def fahrenheit_to_celsius(f):\n",
        "    c = (f - 32) * 5/9\n",
        "    return c\n",
        "\n",
        "def celsius_to_fahrenheit(c):\n",
        "    f = (c * 9/5) + 32\n",
        "    return f\n",
        "\n",
        "# Example usage\n",
        "temp_f = 98.6\n",
        "temp_c = fahrenheit_to_celsius(temp_f)\n",
        "print(temp_f, \"degrees Fahrenheit is equivalent to\", temp_c, \"degrees Celsius.\")\n",
        "\n",
        "temp_c = 37\n",
        "temp_f = celsius_to_fahrenheit(temp_c)\n",
        "print(temp_c, \"degrees Celsius is equivalent to\", temp_f, \"degrees Fahrenheit.\")"
      ],
      "metadata": {
        "colab": {
          "base_uri": "https://localhost:8080/"
        },
        "id": "ijDrIvT5_OwL",
        "outputId": "f8b291c6-8275-4173-b332-524326c43f84"
      },
      "execution_count": null,
      "outputs": [
        {
          "output_type": "stream",
          "name": "stdout",
          "text": [
            "98.6 degrees Fahrenheit is equivalent to 37.0 degrees Celsius.\n",
            "37 degrees Celsius is equivalent to 98.6 degrees Fahrenheit.\n"
          ]
        }
      ]
    },
    {
      "cell_type": "markdown",
      "source": [
        "17.) to print all factors of a given no by using a function "
      ],
      "metadata": {
        "id": "vChnhrgr_aMd"
      }
    },
    {
      "cell_type": "code",
      "source": [
        "def print_factors(num):\n",
        "    print(\"Factors of\", num, \"are:\")\n",
        "    for i in range(1, num+1):\n",
        "        if num % i == 0:\n",
        "            print(i)\n",
        "num = int(input(\"Enter a number: \"))\n",
        "print_factors(num)"
      ],
      "metadata": {
        "colab": {
          "base_uri": "https://localhost:8080/"
        },
        "id": "4m5u2jG7_sdb",
        "outputId": "81c5dd6d-f2e4-4247-a7da-d1a4f843a1c4"
      },
      "execution_count": null,
      "outputs": [
        {
          "output_type": "stream",
          "name": "stdout",
          "text": [
            "Enter a number: 12\n",
            "Factors of 12 are:\n",
            "1\n",
            "2\n",
            "3\n",
            "4\n",
            "6\n",
            "12\n"
          ]
        }
      ]
    },
    {
      "cell_type": "markdown",
      "source": [
        "18.) Python program to convert a decimal number to binary, octal, and hexadecimal using library functions"
      ],
      "metadata": {
        "id": "6Kn1USxFCbVd"
      }
    },
    {
      "cell_type": "code",
      "source": [
        "decimal_num = int(input(\"Enter a decimal number: \"))\n",
        "\n",
        "binary_num = bin(decimal_num)\n",
        "octal_num = oct(decimal_num)\n",
        "hexadecimal_num = hex(decimal_num)\n",
        "\n",
        "print(\"Binary equivalent of\", decimal_num, \"is:\", binary_num)\n",
        "print(\"Octal equivalent of\", decimal_num, \"is:\", octal_num)\n",
        "print(\"Hexadecimal equivalent of\", decimal_num, \"is:\", hexadecimal_num)"
      ],
      "metadata": {
        "colab": {
          "base_uri": "https://localhost:8080/"
        },
        "id": "cMDtM-kbC-3N",
        "outputId": "f8e01695-e368-436c-dc9e-9645db2e79cf"
      },
      "execution_count": null,
      "outputs": [
        {
          "output_type": "stream",
          "name": "stdout",
          "text": [
            "Enter a decimal number: 12\n",
            "Binary equivalent of 12 is: 0b1100\n",
            "Octal equivalent of 12 is: 0o14\n",
            "Hexadecimal equivalent of 12 is: 0xc\n"
          ]
        }
      ]
    },
    {
      "cell_type": "markdown",
      "source": [
        "19). Python program to print Fibonacci series using recursion"
      ],
      "metadata": {
        "id": "JosWFO9lDJle"
      }
    },
    {
      "cell_type": "code",
      "source": [
        "def fibonacci(n):\n",
        "    if n <= 1:\n",
        "        return n\n",
        "    else:\n",
        "        return fibonacci(n-1) + fibonacci(n-2)\n",
        "n = 10\n",
        "if n <= 0:\n",
        "    print(\"Invalid input!\")\n",
        "else:\n",
        "    print(\"Fibonacci series:\")\n",
        "    for i in range(n):\n",
        "        print(fibonacci(i), end=\" \")"
      ],
      "metadata": {
        "colab": {
          "base_uri": "https://localhost:8080/"
        },
        "id": "e41d4bE-DhV7",
        "outputId": "ac1949f0-85e6-4bb0-dd9f-f65034ad4272"
      },
      "execution_count": null,
      "outputs": [
        {
          "output_type": "stream",
          "name": "stdout",
          "text": [
            "Fibonacci series:\n",
            "0 1 1 2 3 5 8 13 21 34 "
          ]
        }
      ]
    },
    {
      "cell_type": "markdown",
      "source": [
        "20.) Python program to find the factorial of a number using recursion"
      ],
      "metadata": {
        "id": "OEJCmaQ3DtFY"
      }
    },
    {
      "cell_type": "code",
      "source": [
        "def factorial(n):\n",
        "    if n == 0:\n",
        "        return 1\n",
        "    else:\n",
        "        return n * factorial(n-1)\n",
        "num = int(input(\"Enter a number: \"))\n",
        "if num < 0:\n",
        "    print(\"Factorial cannot be found for negative numbers\")\n",
        "elif num == 0:\n",
        "    print(\"Factorial of 0 is 1\")\n",
        "else:\n",
        "    print(\"Factorial of\", num, \"is\", factorial(num))"
      ],
      "metadata": {
        "colab": {
          "base_uri": "https://localhost:8080/"
        },
        "id": "NTq_Gr_AD5bA",
        "outputId": "0775112d-7b32-45b8-e37b-3feaf96f9cd6"
      },
      "execution_count": null,
      "outputs": [
        {
          "output_type": "stream",
          "name": "stdout",
          "text": [
            "Enter a number: 5\n",
            "Factorial of 5 is 120\n"
          ]
        }
      ]
    },
    {
      "cell_type": "markdown",
      "source": [
        "21.) Python code to find the sum of first n natural numbers using recursion"
      ],
      "metadata": {
        "id": "ai4Wfk-xENv1"
      }
    },
    {
      "cell_type": "code",
      "source": [
        "def sum_natural_num(n):\n",
        "    if n == 1:\n",
        "        return 1\n",
        "    else:\n",
        "        return n + sum_natural_num(n-1)\n",
        "n = 5\n",
        "sum_n = sum_natural_num(n)\n",
        "print(f\"The sum of first {n} natural numbers is: {sum_n}\")"
      ],
      "metadata": {
        "colab": {
          "base_uri": "https://localhost:8080/"
        },
        "id": "EnDWdnwXESdz",
        "outputId": "f513df5d-b549-418b-9a4d-bc00469faf48"
      },
      "execution_count": null,
      "outputs": [
        {
          "output_type": "stream",
          "name": "stdout",
          "text": [
            "The sum of first 5 natural numbers is: 15\n"
          ]
        }
      ]
    },
    {
      "cell_type": "markdown",
      "source": [
        "22.) Python program that uses recursion to convert a decimal number to its binary equivalent"
      ],
      "metadata": {
        "id": "CRpcSFA1EXL7"
      }
    },
    {
      "cell_type": "code",
      "source": [
        "def decimal_to_binary(n):\n",
        "    if n == 0:\n",
        "        return ''\n",
        "    else:\n",
        "        return decimal_to_binary(n // 2) + str(n % 2)\n",
        "n = 10\n",
        "binary = decimal_to_binary(n)\n",
        "print(f\"{n} in binary is {binary}\")"
      ],
      "metadata": {
        "colab": {
          "base_uri": "https://localhost:8080/"
        },
        "id": "iLX6hSD4FzBH",
        "outputId": "77bed9f3-a6d4-4114-f4c5-156301e2785c"
      },
      "execution_count": null,
      "outputs": [
        {
          "output_type": "stream",
          "name": "stdout",
          "text": [
            "10 in binary is 1010\n"
          ]
        }
      ]
    },
    {
      "cell_type": "markdown",
      "source": [
        "23.) write a python program to display powers of 2 using anynomous function"
      ],
      "metadata": {
        "id": "kZYWeFouF7MA"
      }
    },
    {
      "cell_type": "code",
      "source": [
        "terms = int(input(\"How many terms? \"))\n",
        "result = list(map(lambda x: 2 ** x, range(terms)))\n",
        "for i in range(terms):\n",
        "   print(\"2 raised to power\",i,\"is\",result[i])\n"
      ],
      "metadata": {
        "colab": {
          "base_uri": "https://localhost:8080/"
        },
        "id": "DrvXhSSzGPd2",
        "outputId": "db7f5834-26e9-465a-808f-c5a86da2ed43"
      },
      "execution_count": null,
      "outputs": [
        {
          "output_type": "stream",
          "name": "stdout",
          "text": [
            "How many terms? 12\n",
            "2 raised to power 0 is 1\n",
            "2 raised to power 1 is 2\n",
            "2 raised to power 2 is 4\n",
            "2 raised to power 3 is 8\n",
            "2 raised to power 4 is 16\n",
            "2 raised to power 5 is 32\n",
            "2 raised to power 6 is 64\n",
            "2 raised to power 7 is 128\n",
            "2 raised to power 8 is 256\n",
            "2 raised to power 9 is 512\n",
            "2 raised to power 10 is 1024\n",
            "2 raised to power 11 is 2048\n"
          ]
        }
      ]
    },
    {
      "cell_type": "markdown",
      "source": [
        "24.) write a python program to find area of traingle , circle , cylinder using lambda function "
      ],
      "metadata": {
        "id": "tze5b_BAGeZb"
      }
    },
    {
      "cell_type": "code",
      "source": [
        "area_of_triangle = lambda b, h: 0.5 * b * h\n",
        "area_of_circle = lambda r: 3.14159 * r ** 2\n",
        "area_of_cylinder = lambda r, h: 2 * 3.14159 * r * h + 2 * 3.14159 * r ** 2\n",
        "\n",
        "\n",
        "print(\"Enter 1 for triangle, 2 for circle, or 3 for cylinder\")\n",
        "shape = int(input(\"Enter the shape: \"))\n",
        "\n",
        "if shape == 1:\n",
        "    base = float(input(\"Enter the base of the triangle: \"))\n",
        "    height = float(input(\"Enter the height of the triangle: \"))\n",
        "    area = area_of_triangle(base, height)\n",
        "    print(f\"The area of the triangle is: {area}\")\n",
        "elif shape == 2:\n",
        "    radius = float(input(\"Enter the radius of the circle: \"))\n",
        "    area = area_of_circle(radius)\n",
        "    print(f\"The area of the circle is: {area}\")\n",
        "elif shape == 3:\n",
        "    radius = float(input(\"Enter the radius of the cylinder: \"))\n",
        "    height = float(input(\"Enter the height of the cylinder: \"))\n",
        "    area = area_of_cylinder(radius, height)\n",
        "    print(f\"The area of the cylinder is: {area}\")\n",
        "else:\n",
        "    print(\"Invalid shape selection. Please try again.\")\n",
        "    "
      ],
      "metadata": {
        "colab": {
          "base_uri": "https://localhost:8080/"
        },
        "id": "lFEyEfEYGvei",
        "outputId": "cb989c90-cd61-48e9-934b-3b1202e78dc2"
      },
      "execution_count": null,
      "outputs": [
        {
          "output_type": "stream",
          "name": "stdout",
          "text": [
            "Enter 1 for triangle, 2 for circle, or 3 for cylinder\n",
            "Enter the shape: 1\n",
            "Enter the base of the triangle: 12\n",
            "Enter the height of the triangle: 13\n",
            "The area of the triangle is: 78.0\n"
          ]
        }
      ]
    },
    {
      "cell_type": "markdown",
      "source": [
        "25.) write a python program to add 2 matrices "
      ],
      "metadata": {
        "id": "MG7MSi6PHLlS"
      }
    },
    {
      "cell_type": "code",
      "source": [
        "\n",
        "rows = int(input(\"Enter the number of rows: \"))\n",
        "cols = int(input(\"Enter the number of columns: \"))\n",
        "\n",
        "matrix1 = []\n",
        "matrix2 = []\n",
        "for i in range(rows):\n",
        "    row = []\n",
        "    for j in range(cols):\n",
        "        row.append(0)\n",
        "    matrix1.append(row)\n",
        "\n",
        "for i in range(rows):\n",
        "    row = []\n",
        "    for j in range(cols):\n",
        "        row.append(0)\n",
        "    matrix2.append(row)\n",
        "\n",
        "print(\"Enter the elements of the first matrix:\")\n",
        "for i in range(rows):\n",
        "    for j in range(cols):\n",
        "        matrix1[i][j] = int(input(f\"Enter element ({i+1}, {j+1}): \"))\n",
        "\n",
        "print(\"Enter the elements of the second matrix:\")\n",
        "for i in range(rows):\n",
        "    for j in range(cols):\n",
        "        matrix2[i][j] = int(input(f\"Enter element ({i+1}, {j+1}): \"))\n",
        "\n",
        "result = []\n",
        "for i in range(rows):\n",
        "    row = []\n",
        "    for j in range(cols):\n",
        "        row.append(matrix1[i][j] + matrix2[i][j])\n",
        "    result.append(row)\n",
        "\n",
        "print(\"The sum of the two matrices is:\")\n",
        "for row in result:\n",
        "    print(row)"
      ],
      "metadata": {
        "colab": {
          "base_uri": "https://localhost:8080/"
        },
        "id": "Hc1lyQBHHUW5",
        "outputId": "29567f4e-0b08-4d05-c1e4-c676d9a56885"
      },
      "execution_count": null,
      "outputs": [
        {
          "output_type": "stream",
          "name": "stdout",
          "text": [
            "Enter the number of rows: 2\n",
            "Enter the number of columns: 2\n",
            "Enter the elements of the first matrix:\n",
            "Enter element (1, 1): 1\n",
            "Enter element (1, 2): 2\n",
            "Enter element (2, 1): 3\n",
            "Enter element (2, 2): 4\n",
            "Enter the elements of the second matrix:\n",
            "Enter element (1, 1): 5\n",
            "Enter element (1, 2): 6\n",
            "Enter element (2, 1): 7\n",
            "Enter element (2, 2): 8\n",
            "The sum of the two matrices is:\n",
            "[6, 8]\n",
            "[10, 12]\n"
          ]
        }
      ]
    },
    {
      "cell_type": "markdown",
      "source": [
        "26.) write a program to find transpose of a  matrix"
      ],
      "metadata": {
        "id": "VW5XPkFXHtT4"
      }
    },
    {
      "cell_type": "code",
      "source": [
        "rows = int(input(\"Enter the number of rows: \"))\n",
        "cols = int(input(\"Enter the number of columns: \"))\n",
        "\n",
        "matrix = []\n",
        "for i in range(rows):\n",
        "    row = []\n",
        "    for j in range(cols):\n",
        "        row.append(0)\n",
        "    matrix.append(row)\n",
        "\n",
        "print(\"Enter the elements of the matrix:\")\n",
        "for i in range(rows):\n",
        "    for j in range(cols):\n",
        "        matrix[i][j] = int(input(f\"Enter element ({i+1}, {j+1}): \"))\n",
        "\n",
        "transpose = []\n",
        "for j in range(cols):\n",
        "    row = []\n",
        "    for i in range(rows):\n",
        "        row.append(matrix[i][j])\n",
        "    transpose.append(row)\n",
        "    \n",
        "print(\"The transpose of the matrix is:\")\n",
        "for row in transpose:\n",
        "    print(row)\n"
      ],
      "metadata": {
        "colab": {
          "base_uri": "https://localhost:8080/"
        },
        "id": "OA8jQJhnH2K_",
        "outputId": "4678d872-aef0-490f-cf4d-6b517df5d8ca"
      },
      "execution_count": null,
      "outputs": [
        {
          "output_type": "stream",
          "name": "stdout",
          "text": [
            "Enter the number of rows: 2\n",
            "Enter the number of columns: 2\n",
            "Enter the elements of the matrix:\n",
            "Enter element (1, 1): 1\n",
            "Enter element (1, 2): 2\n",
            "Enter element (2, 1): 3\n",
            "Enter element (2, 2): 4\n",
            "The transpose of the matrix is:\n",
            "[1, 3]\n",
            "[2, 4]\n"
          ]
        }
      ]
    },
    {
      "cell_type": "markdown",
      "source": [
        "27.)write a python program to multiply 2 matrices"
      ],
      "metadata": {
        "id": "3hxdX1wzIkFT"
      }
    },
    {
      "cell_type": "code",
      "source": [
        "rows1 = int(input(\"Enter the number of rows for matrix 1: \"))\n",
        "cols1 = int(input(\"Enter the number of columns for matrix 1: \"))\n",
        "\n",
        "rows2 = int(input(\"Enter the number of rows for matrix 2: \"))\n",
        "cols2 = int(input(\"Enter the number of columns for matrix 2: \"))\n",
        "\n",
        "if cols1 != rows2:\n",
        "    print(\"The matrices cannot be multiplied.\")\n",
        "else:\n",
        "    matrix1 = []\n",
        "    matrix2 = []\n",
        "    for i in range(rows1):\n",
        "        row = []\n",
        "        for j in range(cols1):\n",
        "            row.append(0)\n",
        "        matrix1.append(row)\n",
        "\n",
        "    for i in range(rows2):\n",
        "        row = []\n",
        "        for j in range(cols2):\n",
        "            row.append(0)\n",
        "        matrix2.append(row)\n",
        "\n",
        "    print(\"Enter the elements of matrix 1:\")\n",
        "    for i in range(rows1):\n",
        "        for j in range(cols1):\n",
        "            matrix1[i][j] = int(input(f\"Enter element ({i+1}, {j+1}): \"))\n",
        "\n",
        "    print(\"Enter the elements of matrix 2:\")\n",
        "    for i in range(rows2):\n",
        "        for j in range(cols2):\n",
        "            matrix2[i][j] = int(input(f\"Enter element ({i+1}, {j+1}): \"))\n",
        "\n",
        "    product = []\n",
        "    for i in range(rows1):\n",
        "        row = []\n",
        "        for j in range(cols2):\n",
        "            sum = 0\n",
        "            for k in range(cols1):\n",
        "                sum += matrix1[i][k] * matrix2[k][j]\n",
        "            row.append(sum)\n",
        "        product.append(row)\n",
        "\n",
        "    print(\"The product of the two matrices is:\")\n",
        "    for row in product:\n",
        "        print(row)\n"
      ],
      "metadata": {
        "colab": {
          "base_uri": "https://localhost:8080/"
        },
        "id": "JqGe3GA9I0DB",
        "outputId": "1150343f-ac84-44a4-c48d-8c5f2d0b2d4d"
      },
      "execution_count": null,
      "outputs": [
        {
          "output_type": "stream",
          "name": "stdout",
          "text": [
            "Enter the number of rows for matrix 1: 2\n",
            "Enter the number of columns for matrix 1: 2\n",
            "Enter the number of rows for matrix 2: 2\n",
            "Enter the number of columns for matrix 2: 2\n",
            "Enter the elements of matrix 1:\n",
            "Enter element (1, 1): 1\n",
            "Enter element (1, 2): 2\n",
            "Enter element (2, 1): 3\n",
            "Enter element (2, 2): 4\n",
            "Enter the elements of matrix 2:\n",
            "Enter element (1, 1): 5\n",
            "Enter element (1, 2): 6\n",
            "Enter element (2, 1): 7\n",
            "Enter element (2, 2): 8\n",
            "The product of the two matrices is:\n",
            "[19, 22]\n",
            "[43, 50]\n"
          ]
        }
      ]
    },
    {
      "cell_type": "markdown",
      "source": [
        "28.) write a python program to find average of a numeric list "
      ],
      "metadata": {
        "id": "UCGC9wEWJA3g"
      }
    },
    {
      "cell_type": "code",
      "source": [
        "n=int(input(\"Enter the number of elements to be inserted: \"))\n",
        "a=[]\n",
        "for i in range(0,n):\n",
        "    elem=int(input(\"Enter element: \"))\n",
        "    a.append(elem)\n",
        "avg=sum(a)/n\n",
        "print(\"Average of elements in the list\",round(avg,2))"
      ],
      "metadata": {
        "colab": {
          "base_uri": "https://localhost:8080/",
          "height": 269
        },
        "id": "tgcqWIT3JVHt",
        "outputId": "de0817f6-466c-4eed-adc1-59cbe674b6c1"
      },
      "execution_count": null,
      "outputs": [
        {
          "name": "stdout",
          "output_type": "stream",
          "text": [
            "Enter the number of elements to be inserted: 2\n",
            "Enter element: 1\n",
            "Enter element: 2\n"
          ]
        },
        {
          "output_type": "error",
          "ename": "TypeError",
          "evalue": "ignored",
          "traceback": [
            "\u001b[0;31m---------------------------------------------------------------------------\u001b[0m",
            "\u001b[0;31mTypeError\u001b[0m                                 Traceback (most recent call last)",
            "\u001b[0;32m<ipython-input-50-65dba2b349a7>\u001b[0m in \u001b[0;36m<module>\u001b[0;34m\u001b[0m\n\u001b[1;32m      4\u001b[0m     \u001b[0melem\u001b[0m\u001b[0;34m=\u001b[0m\u001b[0mint\u001b[0m\u001b[0;34m(\u001b[0m\u001b[0minput\u001b[0m\u001b[0;34m(\u001b[0m\u001b[0;34m\"Enter element: \"\u001b[0m\u001b[0;34m)\u001b[0m\u001b[0;34m)\u001b[0m\u001b[0;34m\u001b[0m\u001b[0;34m\u001b[0m\u001b[0m\n\u001b[1;32m      5\u001b[0m     \u001b[0ma\u001b[0m\u001b[0;34m.\u001b[0m\u001b[0mappend\u001b[0m\u001b[0;34m(\u001b[0m\u001b[0melem\u001b[0m\u001b[0;34m)\u001b[0m\u001b[0;34m\u001b[0m\u001b[0;34m\u001b[0m\u001b[0m\n\u001b[0;32m----> 6\u001b[0;31m \u001b[0mavg\u001b[0m\u001b[0;34m=\u001b[0m\u001b[0msum\u001b[0m\u001b[0;34m(\u001b[0m\u001b[0ma\u001b[0m\u001b[0;34m)\u001b[0m\u001b[0;34m/\u001b[0m\u001b[0mn\u001b[0m\u001b[0;34m\u001b[0m\u001b[0;34m\u001b[0m\u001b[0m\n\u001b[0m\u001b[1;32m      7\u001b[0m \u001b[0mprint\u001b[0m\u001b[0;34m(\u001b[0m\u001b[0;34m\"Average of elements in the list\"\u001b[0m\u001b[0;34m,\u001b[0m\u001b[0mround\u001b[0m\u001b[0;34m(\u001b[0m\u001b[0mavg\u001b[0m\u001b[0;34m,\u001b[0m\u001b[0;36m2\u001b[0m\u001b[0;34m)\u001b[0m\u001b[0;34m)\u001b[0m\u001b[0;34m\u001b[0m\u001b[0;34m\u001b[0m\u001b[0m\n",
            "\u001b[0;31mTypeError\u001b[0m: 'int' object is not callable"
          ]
        }
      ]
    },
    {
      "cell_type": "markdown",
      "source": [
        "29.) write a program to access members of list using different variations of slice operation"
      ],
      "metadata": {
        "id": "ONMBWUkoKHtH"
      }
    },
    {
      "cell_type": "code",
      "source": [
        "# create a list of numbers\n",
        "numbers = [0, 1, 2, 3, 4, 5, 6, 7, 8, 9]\n",
        "\n",
        "# print the entire list\n",
        "print(\"The entire list:\")\n",
        "print(numbers)\n",
        "\n",
        "# print the first three elements of the list using positive indexing\n",
        "print(\"The first three elements of the list using positive indexing:\")\n",
        "print(numbers[0:3])\n",
        "\n",
        "# print the last three elements of the list using negative indexing\n",
        "print(\"The last three elements of the list using negative indexing:\")\n",
        "print(numbers[-3:])\n",
        "\n",
        "# print the middle three elements of the list\n",
        "print(\"The middle three elements of the list:\")\n",
        "print(numbers[4:7])\n",
        "\n",
        "# print every other element of the list\n",
        "print(\"Every other element of the list:\")\n",
        "print(numbers[::2])\n",
        "\n",
        "# print the list in reverse order\n",
        "print(\"The list in reverse order:\")\n",
        "print(numbers[::-1])\n"
      ],
      "metadata": {
        "colab": {
          "base_uri": "https://localhost:8080/"
        },
        "id": "i9d8bynqKeeq",
        "outputId": "b0106d83-46ed-4e21-f918-94c8ce9dc58a"
      },
      "execution_count": null,
      "outputs": [
        {
          "output_type": "stream",
          "name": "stdout",
          "text": [
            "The entire list:\n",
            "[0, 1, 2, 3, 4, 5, 6, 7, 8, 9]\n",
            "The first three elements of the list using positive indexing:\n",
            "[0, 1, 2]\n",
            "The last three elements of the list using negative indexing:\n",
            "[7, 8, 9]\n",
            "The middle three elements of the list:\n",
            "[4, 5, 6]\n",
            "Every other element of the list:\n",
            "[0, 2, 4, 6, 8]\n",
            "The list in reverse order:\n",
            "[9, 8, 7, 6, 5, 4, 3, 2, 1, 0]\n"
          ]
        }
      ]
    },
    {
      "cell_type": "markdown",
      "source": [
        "30.) write a python program to concatenate two lists "
      ],
      "metadata": {
        "id": "cwVhV_qJKlR0"
      }
    },
    {
      "cell_type": "code",
      "source": [
        "# create two lists\n",
        "list1 = [1, 2, 3]\n",
        "list2 = [4, 5, 6]\n",
        "\n",
        "# concatenate the two lists using the + operator\n",
        "concatenated_list = list1 + list2\n",
        "\n",
        "# print the concatenated list\n",
        "print(\"The concatenated list is:\", concatenated_list)"
      ],
      "metadata": {
        "colab": {
          "base_uri": "https://localhost:8080/"
        },
        "id": "rW8p7fZiOI6k",
        "outputId": "062a57fb-9045-4605-8fe5-535869dcd763"
      },
      "execution_count": null,
      "outputs": [
        {
          "output_type": "stream",
          "name": "stdout",
          "text": [
            "The concatenated list is: [1, 2, 3, 4, 5, 6]\n"
          ]
        }
      ]
    },
    {
      "cell_type": "markdown",
      "source": [
        "31.) write a python program to find index of a specific elements and print no of occurences "
      ],
      "metadata": {
        "id": "-UJVoyLbOR7Q"
      }
    },
    {
      "cell_type": "code",
      "source": [
        "numbers = [1, 2, 3, 4, 3, 5, 3]\n",
        "element = 3\n",
        "\n",
        "index = numbers.index(element)\n",
        "\n",
        "print(\"The index of the first occurrence of\", element, \"is:\", index)\n",
        "\n",
        "count = numbers.count(element)\n",
        "\n",
        "print(\"The number of occurrences of\", element, \"is:\", count)"
      ],
      "metadata": {
        "colab": {
          "base_uri": "https://localhost:8080/"
        },
        "id": "RGuYo9HCOqNh",
        "outputId": "3457b176-2cb0-4593-e5fa-471ec6768891"
      },
      "execution_count": null,
      "outputs": [
        {
          "output_type": "stream",
          "name": "stdout",
          "text": [
            "The index of the first occurrence of 3 is: 2\n",
            "The number of occurrences of 3 is: 3\n"
          ]
        }
      ]
    },
    {
      "cell_type": "markdown",
      "source": [
        "32.) write a python program to identify duplicates in a list "
      ],
      "metadata": {
        "id": "LJWbKHrqO3N7"
      }
    },
    {
      "cell_type": "code",
      "source": [
        "my_list = [1, 2, 3, 4, 1, 5, 2, 6, 3]\n",
        "\n",
        "duplicates = []\n",
        "\n",
        "for i in my_list:\n",
        "\n",
        "    if my_list.count(i) > 1 and i not in duplicates:\n",
        "        duplicates.append(i)\n",
        "\n",
        "print(\"The list of duplicates is:\", duplicates)\n"
      ],
      "metadata": {
        "colab": {
          "base_uri": "https://localhost:8080/"
        },
        "id": "zSVJYWoqPG33",
        "outputId": "3a8d4d35-ee9c-49a7-9d63-e85490a408f4"
      },
      "execution_count": null,
      "outputs": [
        {
          "output_type": "stream",
          "name": "stdout",
          "text": [
            "The list of duplicates is: [1, 2, 3]\n"
          ]
        }
      ]
    },
    {
      "cell_type": "markdown",
      "source": [
        "33.) write a program to iterate over dictionary using for loop(print all keys , values , items with and without using built in functions/ methods)"
      ],
      "metadata": {
        "id": "UA_qGZd5PWb5"
      }
    },
    {
      "cell_type": "code",
      "source": [
        "my_dict = {'apple': 1, 'banana': 2, 'orange': 3, 'grape': 4}\n",
        "\n",
        "for fruit, quantity in my_dict.items():\n",
        "    print(fruit, quantity)\n"
      ],
      "metadata": {
        "colab": {
          "base_uri": "https://localhost:8080/"
        },
        "id": "tpvnXbNsPyjw",
        "outputId": "df3fbc14-4799-41be-cbc0-fb0c85e2d5c5"
      },
      "execution_count": null,
      "outputs": [
        {
          "output_type": "stream",
          "name": "stdout",
          "text": [
            "apple 1\n",
            "banana 2\n",
            "orange 3\n",
            "grape 4\n"
          ]
        }
      ]
    },
    {
      "cell_type": "code",
      "source": [
        "my_dict = {'apple': 1, 'banana': 2, 'orange': 3, 'grape': 4}\n",
        "\n",
        "for key in my_dict:\n",
        "\n",
        "    value = my_dict[key]\n",
        "\n",
        "    print(key, value)\n"
      ],
      "metadata": {
        "colab": {
          "base_uri": "https://localhost:8080/"
        },
        "id": "V-V5h18fP2Pt",
        "outputId": "cb75d11b-be6f-417a-d320-2b645e87d91a"
      },
      "execution_count": null,
      "outputs": [
        {
          "output_type": "stream",
          "name": "stdout",
          "text": [
            "apple 1\n",
            "banana 2\n",
            "orange 3\n",
            "grape 4\n"
          ]
        }
      ]
    },
    {
      "cell_type": "markdown",
      "source": [
        "34.) write a python program to illustrate nested dictionary "
      ],
      "metadata": {
        "id": "eeGOV1LkQGhf"
      }
    },
    {
      "cell_type": "code",
      "source": [
        "my_dict = {\n",
        "    'fruit1': {\n",
        "        'name': 'apple',\n",
        "        'color': 'red',\n",
        "        'quantity': 5\n",
        "    },\n",
        "    'fruit2': {\n",
        "        'name': 'banana',\n",
        "        'color': 'yellow',\n",
        "        'quantity': 10\n",
        "    },\n",
        "    'fruit3': {\n",
        "        'name': 'orange',\n",
        "        'color': 'orange',\n",
        "        'quantity': 8\n",
        "    }\n",
        "}\n",
        "\n",
        "for fruit_name, fruit_dict in my_dict.items():\n",
        "    print(fruit_name)\n",
        "    for key, value in fruit_dict.items():\n",
        "        print('\\t', key, ':', value)\n"
      ],
      "metadata": {
        "colab": {
          "base_uri": "https://localhost:8080/"
        },
        "id": "ZGs2x1rIQR-D",
        "outputId": "750a6cfc-03b8-4033-e285-c284440aca40"
      },
      "execution_count": null,
      "outputs": [
        {
          "output_type": "stream",
          "name": "stdout",
          "text": [
            "fruit1\n",
            "\t name : apple\n",
            "\t color : red\n",
            "\t quantity : 5\n",
            "fruit2\n",
            "\t name : banana\n",
            "\t color : yellow\n",
            "\t quantity : 10\n",
            "fruit3\n",
            "\t name : orange\n",
            "\t color : orange\n",
            "\t quantity : 8\n"
          ]
        }
      ]
    },
    {
      "cell_type": "markdown",
      "source": [
        "35.) write a python program to sort the disctionary according to key , according to values"
      ],
      "metadata": {
        "id": "6TRY5CWlQg02"
      }
    },
    {
      "cell_type": "code",
      "source": [
        "my_dict = {'apple': 3, 'banana': 2, 'orange': 1, 'grape': 4}\n",
        "\n",
        "sorted_dict_keys = {k: v for k, v in sorted(my_dict.items())}\n",
        "print('Sorted dictionary by keys:', sorted_dict_keys)\n",
        "\n",
        "sorted_dict_values = {k: v for k, v in sorted(my_dict.items(), key=lambda item: item[1])}\n",
        "print('Sorted dictionary by values:', sorted_dict_values)\n"
      ],
      "metadata": {
        "colab": {
          "base_uri": "https://localhost:8080/"
        },
        "id": "Y2LJbrL8Qwhf",
        "outputId": "46aa2a49-86c9-44b0-fc83-35e95cc9390a"
      },
      "execution_count": null,
      "outputs": [
        {
          "output_type": "stream",
          "name": "stdout",
          "text": [
            "Sorted dictionary by keys: {'apple': 3, 'banana': 2, 'grape': 4, 'orange': 1}\n",
            "Sorted dictionary by values: {'orange': 1, 'banana': 2, 'apple': 3, 'grape': 4}\n"
          ]
        }
      ]
    },
    {
      "cell_type": "markdown",
      "source": [
        "36.) prepare a python program to illustrate  different set operations"
      ],
      "metadata": {
        "id": "b6jYN4a1XMIT"
      }
    },
    {
      "cell_type": "code",
      "source": [
        "# create two sets\n",
        "set1 = {1, 2, 3, 4, 5}\n",
        "set2 = {4, 5, 6, 7, 8}\n",
        "\n",
        "# union of two sets\n",
        "union_set = set1.union(set2)\n",
        "print(\"Union of set1 and set2:\", union_set)\n",
        "\n",
        "# intersection of two sets\n",
        "intersection_set = set1.intersection(set2)\n",
        "print(\"Intersection of set1 and set2:\", intersection_set)\n",
        "\n",
        "# difference of two sets\n",
        "difference_set = set1.difference(set2)\n",
        "print(\"Difference of set1 and set2:\", difference_set)\n",
        "\n",
        "# symmetric difference of two sets\n",
        "symmetric_difference_set = set1.symmetric_difference(set2)\n",
        "print(\"Symmetric difference of set1 and set2:\", symmetric_difference_set)\n",
        "\n",
        "# check if a set is subset of another set\n",
        "subset_check = set1.issubset(set2)\n",
        "print(\"Is set1 a subset of set2:\", subset_check)\n",
        "\n",
        "# check if a set is superset of another set\n",
        "superset_check = set1.issuperset(set2)\n",
        "print(\"Is set1 a superset of set2:\", superset_check)"
      ],
      "metadata": {
        "colab": {
          "base_uri": "https://localhost:8080/"
        },
        "id": "PWy4pCbzXTV5",
        "outputId": "0395e6e5-be41-42d8-929d-67cf125ed768"
      },
      "execution_count": null,
      "outputs": [
        {
          "output_type": "stream",
          "name": "stdout",
          "text": [
            "Union of set1 and set2: {1, 2, 3, 4, 5, 6, 7, 8}\n",
            "Intersection of set1 and set2: {4, 5}\n",
            "Difference of set1 and set2: {1, 2, 3}\n",
            "Symmetric difference of set1 and set2: {1, 2, 3, 6, 7, 8}\n",
            "Is set1 a subset of set2: False\n",
            "Is set1 a superset of set2: False\n"
          ]
        }
      ]
    },
    {
      "cell_type": "code",
      "source": [
        "set1 = {1, 2, 3, 4, 5}\n",
        "set2 = {4, 5, 6, 7, 8}\n",
        "\n",
        "# union\n",
        "union_set = set1.union(set2)\n",
        "print(\"Union set:\", union_set)\n",
        "\n",
        "# intersection\n",
        "intersection_set = set1.intersection(set2)\n",
        "print(\"Intersection set:\", intersection_set)\n",
        "\n",
        "# difference\n",
        "difference_set = set1.difference(set2)\n",
        "print(\"Difference set:\", difference_set)\n",
        "\n",
        "# symmetric difference\n",
        "symmetric_difference_set = set1.symmetric_difference(set2)\n",
        "print(\"Symmetric difference set:\", symmetric_difference_set)"
      ],
      "metadata": {
        "colab": {
          "base_uri": "https://localhost:8080/"
        },
        "id": "KyuBxhkzk6NH",
        "outputId": "584918d1-d7aa-4b81-bb40-d686dc6f8fda"
      },
      "execution_count": null,
      "outputs": [
        {
          "output_type": "stream",
          "name": "stdout",
          "text": [
            "Union set: {1, 2, 3, 4, 5, 6, 7, 8}\n",
            "Intersection set: {4, 5}\n",
            "Difference set: {1, 2, 3}\n",
            "Symmetric difference set: {1, 2, 3, 6, 7, 8}\n"
          ]
        }
      ]
    },
    {
      "cell_type": "markdown",
      "source": [
        "37.)  Python program to check whether a string is a palindrome or not"
      ],
      "metadata": {
        "id": "_0FOKib4lNVv"
      }
    },
    {
      "cell_type": "code",
      "source": [
        "def is_palindrome(string):\n",
        "  \n",
        "    string = string.strip().lower()\n",
        "\n",
        "    reversed_string = string[::-1]\n",
        "\n",
        "    if string == reversed_string:\n",
        "        return True\n",
        "    else:\n",
        "        return False\n",
        "\n",
        "my_string = \"Racecar\"\n",
        "if is_palindrome(my_string):\n",
        "    print(my_string, \"is a palindrome\")\n",
        "else:\n",
        "    print(my_string, \"is not a palindrome\")"
      ],
      "metadata": {
        "colab": {
          "base_uri": "https://localhost:8080/"
        },
        "id": "VRUwST0xlQo5",
        "outputId": "4a975a71-e750-45cc-d165-00772df41bdf"
      },
      "execution_count": null,
      "outputs": [
        {
          "output_type": "stream",
          "name": "stdout",
          "text": [
            "Racecar is a palindrome\n"
          ]
        }
      ]
    },
    {
      "cell_type": "markdown",
      "source": [
        "38.) write a python program to remove punctuations from a string"
      ],
      "metadata": {
        "id": "9MoA4FC5lcs1"
      }
    },
    {
      "cell_type": "code",
      "source": [
        "import string\n",
        "\n",
        "def remove_punctuations(text):\n",
        "    # Create a string of all punctuations\n",
        "    punctuations = string.punctuation\n",
        "    \n",
        "    # Remove punctuations from the given text\n",
        "    no_punctuations = text.translate(str.maketrans('', '', punctuations))\n",
        "    \n",
        "    return no_punctuations\n",
        "\n",
        "# Example usage\n",
        "text = \"Hello, world! This is a string with punctuations.\"\n",
        "no_punctuations = remove_punctuations(text)\n",
        "print(\"Original Text: \", text)\n",
        "print(\"Text with no Punctuations: \", no_punctuations)"
      ],
      "metadata": {
        "id": "T6i_yCACm9Oe"
      },
      "execution_count": null,
      "outputs": []
    },
    {
      "cell_type": "markdown",
      "source": [
        "39.) write a python program to sort words of a string in alphabetical order"
      ],
      "metadata": {
        "id": "bIGlDJV3m_UV"
      }
    },
    {
      "cell_type": "code",
      "source": [
        "my_str = input(\"Enter a string: \")  \n",
        "# breakdown the string into a list of words  \n",
        "words = my_str.split()  \n",
        "# sort the list  \n",
        "words.sort()  \n",
        "# display the sorted words  \n",
        "for word in words:  \n",
        "   print(word)  "
      ],
      "metadata": {
        "colab": {
          "base_uri": "https://localhost:8080/"
        },
        "id": "eOeQDxB3ni90",
        "outputId": "7b6fa8db-3b99-47af-ef7a-4934946eb780"
      },
      "execution_count": null,
      "outputs": [
        {
          "output_type": "stream",
          "name": "stdout",
          "text": [
            "Enter a string: anushkajoshi\n",
            "anushkajoshi\n"
          ]
        }
      ]
    },
    {
      "cell_type": "markdown",
      "source": [
        "40.) Write a python program to count no of vowles in a statement "
      ],
      "metadata": {
        "id": "C8eYt-KUo_rj"
      }
    },
    {
      "cell_type": "code",
      "source": [
        "def count_vowels(statement):\n",
        "    vowels = 'aeiouAEIOU'\n",
        "    count = 0\n",
        "    for char in statement:\n",
        "        if char in vowels:\n",
        "            count += 1\n",
        "    return count\n",
        "\n",
        "# Example usage\n",
        "my_statement = \"This is a sample statement to count vowels.\"\n",
        "num_vowels = count_vowels(my_statement)\n",
        "print(\"Number of vowels in the statement:\", num_vowels)"
      ],
      "metadata": {
        "colab": {
          "base_uri": "https://localhost:8080/"
        },
        "id": "85vxg1I2ozTK",
        "outputId": "daf001ab-de4c-41a3-bffb-e26a42b6347d"
      },
      "execution_count": null,
      "outputs": [
        {
          "output_type": "stream",
          "name": "stdout",
          "text": [
            "Number of vowels in the statement: 13\n"
          ]
        }
      ]
    },
    {
      "cell_type": "markdown",
      "source": [
        "41.) write a python program to check if two string are anagarms or not "
      ],
      "metadata": {
        "id": "izCHkT0lpDFw"
      }
    },
    {
      "cell_type": "code",
      "source": [
        "def is_anagram(str1, str2):\n",
        "    str1 = str1.replace(' ', '').lower()\n",
        "    str2 = str2.replace(' ', '').lower()\n",
        "    \n",
        "    if len(str1) != len(str2):\n",
        "        return False\n",
        "    \n",
        "    freq_dict = {}\n",
        "    for char in str1:\n",
        "        if char in freq_dict:\n",
        "            freq_dict[char] += 1\n",
        "        else:\n",
        "            freq_dict[char] = 1\n",
        "    \n",
        "    for char in str2:\n",
        "        if char in freq_dict:\n",
        "            freq_dict[char] -= 1\n",
        "        else:\n",
        "            return False\n",
        "    \n",
        "    for value in freq_dict.values():\n",
        "        if value != 0:\n",
        "            return False\n",
        "    \n",
        "    return True\n",
        "\n",
        "string1 = \"rail safety\"\n",
        "string2 = \"fairy tales\"\n",
        "if is_anagram(string1, string2):\n",
        "    print(string1, \"and\", string2, \"are anagrams\")\n",
        "else:\n",
        "    print(string1, \"and\", string2, \"are not anagrams\")"
      ],
      "metadata": {
        "colab": {
          "base_uri": "https://localhost:8080/"
        },
        "id": "RSg6k_0dpcfy",
        "outputId": "3b25d128-6302-400f-8ea0-89eba50e48a2"
      },
      "execution_count": null,
      "outputs": [
        {
          "output_type": "stream",
          "name": "stdout",
          "text": [
            "rail safety and fairy tales are anagrams\n"
          ]
        }
      ]
    },
    {
      "cell_type": "markdown",
      "source": [
        "42.) write a python program to count occurences of each word in a given sentence"
      ],
      "metadata": {
        "id": "bdu7wnYbqBtV"
      }
    },
    {
      "cell_type": "code",
      "source": [
        "def count_words(sentence):\n",
        "    \n",
        "    sentence = sentence.lower().replace(',', '').replace('.', '')\n",
        "    \n",
        "    words = sentence.split()\n",
        "  \n",
        "    word_counts = {}\n",
        "\n",
        "    for word in words:\n",
        "        if word in word_counts:\n",
        "            word_counts[word] += 1\n",
        "        else:\n",
        "            word_counts[word] = 1\n",
        "    return word_counts\n",
        "\n",
        "sentence = \"The quick brown fox jumps over the lazy dog. The dog slept over the verandah.\"\n",
        "counts = count_words(sentence)\n",
        "print(counts)"
      ],
      "metadata": {
        "colab": {
          "base_uri": "https://localhost:8080/"
        },
        "id": "Kdc5p-8zqV0r",
        "outputId": "a83bff73-8970-4bd5-9cd8-8a14936efcc8"
      },
      "execution_count": null,
      "outputs": [
        {
          "output_type": "stream",
          "name": "stdout",
          "text": [
            "{'the': 4, 'quick': 1, 'brown': 1, 'fox': 1, 'jumps': 1, 'over': 2, 'lazy': 1, 'dog': 2, 'slept': 1, 'verandah': 1}\n"
          ]
        }
      ]
    },
    {
      "cell_type": "markdown",
      "source": [
        "43.) write a python program to reverse all words of a sentence "
      ],
      "metadata": {
        "id": "a-bORBcGqdjw"
      }
    },
    {
      "cell_type": "code",
      "source": [
        "def reverse_words(sentence):\n",
        "    # split the sentence into words\n",
        "    words = sentence.split()\n",
        "    # reverse each word in the list\n",
        "    words = [word[::-1] for word in words]\n",
        "    # join the words back together into a sentence\n",
        "    reversed_sentence = \" \".join(words)\n",
        "    return reversed_sentence\n",
        "\n",
        "# Example usage\n",
        "my_sentence = \"Hello world, how are you?\"\n",
        "reversed_sentence = reverse_words(my_sentence)\n",
        "print(\"Original sentence:\", my_sentence)\n",
        "print(\"Reversed sentence:\", reversed_sentence)"
      ],
      "metadata": {
        "colab": {
          "base_uri": "https://localhost:8080/"
        },
        "id": "k0JdNFJtq8Q4",
        "outputId": "07d2e60c-b639-4989-d6f7-d8f8cefffb13"
      },
      "execution_count": null,
      "outputs": [
        {
          "output_type": "stream",
          "name": "stdout",
          "text": [
            "Original sentence: Hello world, how are you?\n",
            "Reversed sentence: olleH ,dlrow woh era ?uoy\n"
          ]
        }
      ]
    }
  ]
}